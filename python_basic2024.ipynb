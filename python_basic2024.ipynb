{
  "nbformat": 4,
  "nbformat_minor": 0,
  "metadata": {
    "colab": {
      "provenance": [],
      "gpuType": "T4",
      "toc_visible": true,
      "authorship_tag": "ABX9TyN90aDkm4+0GTvINslv9Vh4",
      "include_colab_link": true
    },
    "kernelspec": {
      "name": "python3",
      "display_name": "Python 3"
    },
    "language_info": {
      "name": "python"
    },
    "accelerator": "GPU"
  },
  "cells": [
    {
      "cell_type": "markdown",
      "metadata": {
        "id": "view-in-github",
        "colab_type": "text"
      },
      "source": [
        "<a href=\"https://colab.research.google.com/github/mingyi2013/2022-sbi-ci-workshop-pt2/blob/main/python_basic2024.ipynb\" target=\"_parent\"><img src=\"https://colab.research.google.com/assets/colab-badge.svg\" alt=\"Open In Colab\"/></a>"
      ]
    },
    {
      "cell_type": "markdown",
      "source": [
        "Python basic 2024"
      ],
      "metadata": {
        "id": "KxdnNBWR06aY"
      }
    },
    {
      "cell_type": "markdown",
      "source": [
        "# Reference"
      ],
      "metadata": {
        "id": "QPQ9OwWH1J5a"
      }
    },
    {
      "cell_type": "markdown",
      "source": [
        "Python basic by alto Univ:\n",
        "\n",
        "https://aaltoscicomp.github.io/python-for-scicomp/numpy/"
      ],
      "metadata": {
        "id": "vENExhsSlUsz"
      }
    },
    {
      "cell_type": "markdown",
      "source": [
        "# Env setting"
      ],
      "metadata": {
        "id": "x0oPpGFA10AR"
      }
    },
    {
      "cell_type": "markdown",
      "source": [
        "## Link to Google drive"
      ],
      "metadata": {
        "id": "jk38r9jo18T5"
      }
    },
    {
      "cell_type": "markdown",
      "source": [
        "## Import packages"
      ],
      "metadata": {
        "id": "cFPhHW3i5zUE"
      }
    },
    {
      "cell_type": "markdown",
      "source": [
        "run following command:"
      ],
      "metadata": {
        "id": "I4sWwwAE2DET"
      }
    },
    {
      "cell_type": "code",
      "execution_count": null,
      "metadata": {
        "colab": {
          "base_uri": "https://localhost:8080/"
        },
        "id": "fNnqvJLMdBca",
        "outputId": "f88e6728-75a6-46fd-e19b-f999e1eed076"
      },
      "outputs": [
        {
          "output_type": "stream",
          "name": "stdout",
          "text": [
            "/root\n"
          ]
        }
      ],
      "source": [
        "import os\n",
        "!pwd"
      ]
    },
    {
      "cell_type": "code",
      "source": [
        "# this is a comment\n",
        "print(\"hello\")\n",
        "print(\"welcomme to this tutorial\")"
      ],
      "metadata": {
        "colab": {
          "base_uri": "https://localhost:8080/"
        },
        "id": "Db2JM-GKden8",
        "outputId": "61a6017d-3504-4945-fe2e-bed871fc788c"
      },
      "execution_count": null,
      "outputs": [
        {
          "output_type": "stream",
          "name": "stdout",
          "text": [
            "hello\n",
            "welcomme to this tutorial\n"
          ]
        }
      ]
    },
    {
      "cell_type": "code",
      "source": [],
      "metadata": {
        "id": "kIN4NaD2hcud"
      },
      "execution_count": null,
      "outputs": []
    },
    {
      "cell_type": "code",
      "source": [
        "import pandas as pd\n",
        "import numpy as np\n",
        "import matplotlib.pyplot as plt\n",
        "import math\n"
      ],
      "metadata": {
        "id": "aZPLuBdTebmw"
      },
      "execution_count": null,
      "outputs": []
    },
    {
      "cell_type": "markdown",
      "source": [
        "# Random data"
      ],
      "metadata": {
        "id": "hrUClCte58ps"
      }
    },
    {
      "cell_type": "code",
      "source": [
        "np.random.random(10)"
      ],
      "metadata": {
        "colab": {
          "base_uri": "https://localhost:8080/"
        },
        "id": "iCPfThwpfov0",
        "outputId": "9d8ce470-9f9e-4354-eeee-ff4061277bc4"
      },
      "execution_count": null,
      "outputs": [
        {
          "output_type": "execute_result",
          "data": {
            "text/plain": [
              "array([0.45061556, 0.16373181, 0.4912972 , 0.21077436, 0.68396437,\n",
              "       0.58785504, 0.98358801, 0.79900241, 0.24988086, 0.48746815])"
            ]
          },
          "metadata": {},
          "execution_count": 29
        }
      ]
    },
    {
      "cell_type": "markdown",
      "source": [
        "Loof:     if... else ..."
      ],
      "metadata": {
        "id": "VjsJxmMi3hvs"
      }
    },
    {
      "cell_type": "markdown",
      "source": [
        "Loop if: ... else: ..."
      ],
      "metadata": {
        "id": "Cj0Qr3m13uuW"
      }
    },
    {
      "cell_type": "markdown",
      "source": [
        "# Condition"
      ],
      "metadata": {
        "id": "t6-PK3ZQ6BVn"
      }
    },
    {
      "cell_type": "markdown",
      "source": [
        "## If/else"
      ],
      "metadata": {
        "id": "4E0VzwDG6H68"
      }
    },
    {
      "cell_type": "code",
      "source": [
        "x = 0\n",
        "if x < 1:\n",
        "  print(\"x is less than 1\")\n",
        "else:\n",
        "  print(\"x is equal or larger than 1\")"
      ],
      "metadata": {
        "colab": {
          "base_uri": "https://localhost:8080/"
        },
        "id": "25_VhVwy3QLz",
        "outputId": "09da882d-ebbc-46c0-82ff-513c75a50509"
      },
      "execution_count": null,
      "outputs": [
        {
          "output_type": "stream",
          "name": "stdout",
          "text": [
            "x is less than 1\n"
          ]
        }
      ]
    },
    {
      "cell_type": "markdown",
      "source": [
        "## For i in range()"
      ],
      "metadata": {
        "id": "_KUS8hJN4Ee2"
      }
    },
    {
      "cell_type": "code",
      "source": [
        "times = int(3)\n",
        "print(times)\n",
        "for i in range(times):\n",
        "    print(\"hello\")"
      ],
      "metadata": {
        "colab": {
          "base_uri": "https://localhost:8080/"
        },
        "id": "U2PDHifk34LU",
        "outputId": "22a3a8a6-8cad-4d2d-9175-8d3d47ea8737"
      },
      "execution_count": null,
      "outputs": [
        {
          "output_type": "stream",
          "name": "stdout",
          "text": [
            "3\n",
            "hello\n",
            "hello\n",
            "hello\n"
          ]
        }
      ]
    },
    {
      "cell_type": "markdown",
      "source": [
        "# String\n"
      ],
      "metadata": {
        "id": "-CtSTTgq4408"
      }
    },
    {
      "cell_type": "markdown",
      "source": [
        "## find/replace"
      ],
      "metadata": {
        "id": "RdTRHIDh5dgh"
      }
    },
    {
      "cell_type": "code",
      "source": [
        "s = \"AGCCTTAAATTTCCC\"\n",
        "print(s)"
      ],
      "metadata": {
        "colab": {
          "base_uri": "https://localhost:8080/"
        },
        "id": "3v0RVXar62Ac",
        "outputId": "0c34a9e8-db16-40f8-be06-8bef3d57aa92"
      },
      "execution_count": null,
      "outputs": [
        {
          "output_type": "stream",
          "name": "stdout",
          "text": [
            "AGCCTTAAATTTCCC\n"
          ]
        }
      ]
    },
    {
      "cell_type": "code",
      "source": [
        "# find string index\n",
        "motif_ind = s.find(\"AAA\")\n",
        "print(motif_ind)"
      ],
      "metadata": {
        "colab": {
          "base_uri": "https://localhost:8080/"
        },
        "id": "5w3VwvBo7EEd",
        "outputId": "dd0d2c04-dc44-4775-ab4f-e2d0b8529dec"
      },
      "execution_count": null,
      "outputs": [
        {
          "output_type": "stream",
          "name": "stdout",
          "text": [
            "6\n"
          ]
        }
      ]
    },
    {
      "cell_type": "code",
      "source": [
        "# print string after motif to end\n",
        "print(s[motif_ind:])"
      ],
      "metadata": {
        "colab": {
          "base_uri": "https://localhost:8080/"
        },
        "id": "MvH60gOL7yaL",
        "outputId": "9ec9d4eb-fd8c-41f5-b196-86b7f1118fda"
      },
      "execution_count": null,
      "outputs": [
        {
          "output_type": "stream",
          "name": "stdout",
          "text": [
            "AAATTTCCC\n"
          ]
        }
      ]
    },
    {
      "cell_type": "code",
      "source": [
        "# print string between index and index + 3\n",
        "print(s[motif_ind : motif_ind+3])"
      ],
      "metadata": {
        "colab": {
          "base_uri": "https://localhost:8080/",
          "height": 156
        },
        "id": "Xwtie8nS8JJ_",
        "outputId": "4b8fda6f-758a-4317-c9c0-eef312666f23"
      },
      "execution_count": null,
      "outputs": [
        {
          "output_type": "error",
          "ename": "NameError",
          "evalue": "name 's' is not defined",
          "traceback": [
            "\u001b[0;31m---------------------------------------------------------------------------\u001b[0m",
            "\u001b[0;31mNameError\u001b[0m                                 Traceback (most recent call last)",
            "\u001b[0;32m<ipython-input-1-ec378843d5a7>\u001b[0m in \u001b[0;36m<cell line: 2>\u001b[0;34m()\u001b[0m\n\u001b[1;32m      1\u001b[0m \u001b[0;31m# print string between index and index + 3\u001b[0m\u001b[0;34m\u001b[0m\u001b[0;34m\u001b[0m\u001b[0m\n\u001b[0;32m----> 2\u001b[0;31m \u001b[0mprint\u001b[0m\u001b[0;34m(\u001b[0m\u001b[0ms\u001b[0m\u001b[0;34m[\u001b[0m\u001b[0mmotif_ind\u001b[0m \u001b[0;34m:\u001b[0m \u001b[0mmotif_ind\u001b[0m\u001b[0;34m+\u001b[0m\u001b[0;36m3\u001b[0m\u001b[0;34m]\u001b[0m\u001b[0;34m)\u001b[0m\u001b[0;34m\u001b[0m\u001b[0;34m\u001b[0m\u001b[0m\n\u001b[0m",
            "\u001b[0;31mNameError\u001b[0m: name 's' is not defined"
          ]
        }
      ]
    },
    {
      "cell_type": "code",
      "source": [
        "# replace above 4 letters by lower case\n",
        "s2 = s[motif_ind : motif_ind+3].lower()\n",
        "print(s2)"
      ],
      "metadata": {
        "colab": {
          "base_uri": "https://localhost:8080/"
        },
        "id": "b0kBtuOm8WgU",
        "outputId": "669c0634-fa57-427c-f968-50bb240cc88f"
      },
      "execution_count": null,
      "outputs": [
        {
          "output_type": "stream",
          "name": "stdout",
          "text": [
            "aaa\n"
          ]
        }
      ]
    },
    {
      "cell_type": "code",
      "source": [
        "# replace substring between [index: index+3] in s with s2:\n",
        "s3 = s.replace(s[motif_ind : motif_ind+4], s2)\n",
        "print(s3)"
      ],
      "metadata": {
        "colab": {
          "base_uri": "https://localhost:8080/"
        },
        "id": "9YJTOZHi9ND5",
        "outputId": "61d5ea18-97b4-456b-ff09-2f2c9c85b9ab"
      },
      "execution_count": null,
      "outputs": [
        {
          "output_type": "stream",
          "name": "stdout",
          "text": [
            "AGCCTTaaaTTCCC\n"
          ]
        }
      ]
    },
    {
      "cell_type": "code",
      "source": [],
      "metadata": {
        "id": "hxJqt6Xd-njA"
      },
      "execution_count": null,
      "outputs": []
    },
    {
      "cell_type": "markdown",
      "source": [
        "## length by len()"
      ],
      "metadata": {
        "id": "vDYyOefz-p7c"
      }
    },
    {
      "cell_type": "code",
      "source": [
        "print(len(s))"
      ],
      "metadata": {
        "colab": {
          "base_uri": "https://localhost:8080/"
        },
        "id": "QYK7MoY9-yUA",
        "outputId": "68340224-361f-48c6-b799-ecee0556c614"
      },
      "execution_count": null,
      "outputs": [
        {
          "output_type": "stream",
          "name": "stdout",
          "text": [
            "15\n"
          ]
        }
      ]
    },
    {
      "cell_type": "code",
      "source": [
        "print(\"The length of motif is: \\n\", len(s2))"
      ],
      "metadata": {
        "colab": {
          "base_uri": "https://localhost:8080/"
        },
        "id": "J4LhJ0Nr-54x",
        "outputId": "7e9768d3-2600-4c31-bfed-fba450ca096f"
      },
      "execution_count": null,
      "outputs": [
        {
          "output_type": "stream",
          "name": "stdout",
          "text": [
            "The length of motif is: \n",
            " 3\n"
          ]
        }
      ]
    },
    {
      "cell_type": "markdown",
      "source": [
        "# numpy"
      ],
      "metadata": {
        "id": "hcykKPSKlpnv"
      }
    },
    {
      "cell_type": "markdown",
      "source": [
        "## array"
      ],
      "metadata": {
        "id": "-Btb-ncyoq9v"
      }
    },
    {
      "cell_type": "code",
      "source": [
        "import numpy as np\n",
        "a = np.arange(10)\n",
        "b = np.zeros(10)\n",
        "print(a)\n",
        "print(b)"
      ],
      "metadata": {
        "colab": {
          "base_uri": "https://localhost:8080/"
        },
        "id": "9JjBsxBiot0q",
        "outputId": "48cfa76d-a845-44a2-eb28-3dc169d746ef"
      },
      "execution_count": null,
      "outputs": [
        {
          "output_type": "stream",
          "name": "stdout",
          "text": [
            "[0 1 2 3 4 5 6 7 8 9]\n",
            "[0. 0. 0. 0. 0. 0. 0. 0. 0. 0.]\n"
          ]
        }
      ]
    },
    {
      "cell_type": "code",
      "source": [
        "a = np.array([1,2,3])               # 1-dimensional array (rank 1)\n",
        "b = np.array([[1,2,3],[4,5,6]])     # 2-dimensional array (rank 2)\n",
        "print(b)\n",
        "print(b.shape)                             # the shape (rows,columns)\n",
        "print(b.size)"
      ],
      "metadata": {
        "colab": {
          "base_uri": "https://localhost:8080/"
        },
        "id": "j-Fl6Asmluhf",
        "outputId": "6db9def1-3c4e-4d5c-a774-1ca92476b145"
      },
      "execution_count": null,
      "outputs": [
        {
          "output_type": "stream",
          "name": "stdout",
          "text": [
            "[[1 2 3]\n",
            " [4 5 6]]\n",
            "(2, 3)\n",
            "6\n"
          ]
        }
      ]
    },
    {
      "cell_type": "code",
      "source": [
        "print(np.zeros((2, 3)))             # 2x3 array with all elements 0\n",
        "print(np.ones((2,3)))               # 2x3 array with all elements 1"
      ],
      "metadata": {
        "id": "RlpwP7u9pb0P",
        "colab": {
          "base_uri": "https://localhost:8080/"
        },
        "outputId": "303bf3de-45e5-4074-8699-b9af30661cde"
      },
      "execution_count": null,
      "outputs": [
        {
          "output_type": "stream",
          "name": "stdout",
          "text": [
            "[[0. 0. 0.]\n",
            " [0. 0. 0.]]\n",
            "[[1. 1. 1.]\n",
            " [1. 1. 1.]]\n"
          ]
        }
      ]
    },
    {
      "cell_type": "code",
      "source": [
        "np.full((3,4), 8) # 3x4 array with all elements 8"
      ],
      "metadata": {
        "id": "lMVbVkz-wCJb"
      },
      "execution_count": null,
      "outputs": []
    },
    {
      "cell_type": "markdown",
      "source": [
        "\\\n"
      ],
      "metadata": {
        "id": "gQczzyDru-ec"
      }
    },
    {
      "cell_type": "code",
      "source": [
        "np.linspace(0,9,10)   # between 0-9, given 10 number in even space."
      ],
      "metadata": {
        "colab": {
          "base_uri": "https://localhost:8080/"
        },
        "id": "BCmn-4IjqCM_",
        "outputId": "6972f6ec-31d3-4cd4-9021-332b95f62885"
      },
      "execution_count": null,
      "outputs": [
        {
          "output_type": "execute_result",
          "data": {
            "text/plain": [
              "array([0., 1., 2., 3., 4., 5., 6., 7., 8., 9.])"
            ]
          },
          "metadata": {},
          "execution_count": 17
        }
      ]
    },
    {
      "cell_type": "markdown",
      "source": [
        "\\\n"
      ],
      "metadata": {
        "id": "XADgSXQIvGbU"
      }
    },
    {
      "cell_type": "code",
      "source": [
        "c = np.ones((3,3))\n",
        "d = np.ones((3, 2), 'bool')  # 3x2 boolean array\n",
        "print(c)\n",
        "print(d)"
      ],
      "metadata": {
        "colab": {
          "base_uri": "https://localhost:8080/"
        },
        "id": "HN3dFETEvc7L",
        "outputId": "1d195d75-fd6f-4f4b-c644-27b4fb304634"
      },
      "execution_count": null,
      "outputs": [
        {
          "output_type": "stream",
          "name": "stdout",
          "text": [
            "[[1. 1. 1.]\n",
            " [1. 1. 1.]\n",
            " [1. 1. 1.]]\n",
            "[[ True  True]\n",
            " [ True  True]\n",
            " [ True  True]]\n"
          ]
        }
      ]
    },
    {
      "cell_type": "markdown",
      "source": [
        "## save npy file"
      ],
      "metadata": {
        "id": "i786DF7KuvXw"
      }
    },
    {
      "cell_type": "code",
      "source": [
        "np.save('/my_data/test_file1.npy', a)           # save the array a to a .npy file\n",
        "x = np.load('/my_data/test_file1.npy')\n",
        "print(x)"
      ],
      "metadata": {
        "colab": {
          "base_uri": "https://localhost:8080/"
        },
        "id": "-WyfhsjBqsIt",
        "outputId": "dbb51d7b-9f99-49ff-b316-6c2388e4cbf1"
      },
      "execution_count": null,
      "outputs": [
        {
          "output_type": "stream",
          "name": "stdout",
          "text": [
            "[0 1 2 3 4 5 6 7 8 9]\n"
          ]
        }
      ]
    },
    {
      "cell_type": "code",
      "source": [
        "#%cd\n",
        "!pwd"
      ],
      "metadata": {
        "colab": {
          "base_uri": "https://localhost:8080/"
        },
        "id": "RK57-DKOzCIT",
        "outputId": "8b073d0d-05d1-42de-a791-072098344765"
      },
      "execution_count": null,
      "outputs": [
        {
          "output_type": "stream",
          "name": "stdout",
          "text": [
            "/root\n"
          ]
        }
      ]
    }
  ]
}